{
 "cells": [
  {
   "cell_type": "markdown",
   "id": "28502325-ac97-49fc-9679-2ca658ac7490",
   "metadata": {},
   "source": [
    "# QF620 Project Part III - Static Replication"
   ]
  },
  {
   "cell_type": "markdown",
   "id": "43635c5b-f77d-474b-b54e-65249964f3ae",
   "metadata": {},
   "source": [
    "**Group 8**\\\n",
    "Ee Jing Michelle\\\n",
    "Ishani Maitra\\\n",
    "Jermayne Lim Jie Min\\\n",
    "Lim Fang Yi\\\n",
    "Muhammad Saqif Bin Juhaimee\\\n",
    "Rohen S/O Veera Kumaran"
   ]
  },
  {
   "cell_type": "code",
   "execution_count": 1,
   "id": "3ee7226f-9cc3-48c6-8246-d7dd6fb1cf0b",
   "metadata": {
    "executionInfo": {
     "elapsed": 1795,
     "status": "ok",
     "timestamp": 1732019712856,
     "user": {
      "displayName": "jermayne lim",
      "userId": "08961031915218781754"
     },
     "user_tz": -480
    },
    "id": "3ee7226f-9cc3-48c6-8246-d7dd6fb1cf0b"
   },
   "outputs": [],
   "source": [
    "import pandas as pd\n",
    "import numpy as np\n",
    "from scipy.stats import norm\n",
    "from scipy.optimize import brentq\n",
    "import matplotlib.pylab as plt\n",
    "from scipy.integrate import quad\n",
    "import datetime as dt\n",
    "from scipy.interpolate import interp1d"
   ]
  },
  {
   "cell_type": "markdown",
   "id": "2ae66fff-f250-416e-837a-1a1a0b79d264",
   "metadata": {
    "id": "2ae66fff-f250-416e-837a-1a1a0b79d264"
   },
   "source": [
    "## Data Cleaning"
   ]
  },
  {
   "cell_type": "code",
   "execution_count": 3,
   "id": "fc3a8250-e7cc-4772-ae7b-27950ffe46a4",
   "metadata": {
    "colab": {
     "base_uri": "https://localhost:8080/",
     "height": 622
    },
    "executionInfo": {
     "elapsed": 1523,
     "status": "ok",
     "timestamp": 1732019714378,
     "user": {
      "displayName": "jermayne lim",
      "userId": "08961031915218781754"
     },
     "user_tz": -480
    },
    "id": "fc3a8250-e7cc-4772-ae7b-27950ffe46a4",
    "outputId": "c9e31340-8dd5-4e4e-d57d-0234121803f1"
   },
   "outputs": [
    {
     "data": {
      "text/html": [
       "<div>\n",
       "<style scoped>\n",
       "    .dataframe tbody tr th:only-of-type {\n",
       "        vertical-align: middle;\n",
       "    }\n",
       "\n",
       "    .dataframe tbody tr th {\n",
       "        vertical-align: top;\n",
       "    }\n",
       "\n",
       "    .dataframe thead th {\n",
       "        text-align: right;\n",
       "    }\n",
       "</style>\n",
       "<table border=\"1\" class=\"dataframe\">\n",
       "  <thead>\n",
       "    <tr style=\"text-align: right;\">\n",
       "      <th></th>\n",
       "      <th>date</th>\n",
       "      <th>exdate</th>\n",
       "      <th>cp_flag</th>\n",
       "      <th>strike_price</th>\n",
       "      <th>best_bid</th>\n",
       "      <th>best_offer</th>\n",
       "      <th>exercise_style</th>\n",
       "      <th>expiry</th>\n",
       "      <th>mid</th>\n",
       "    </tr>\n",
       "  </thead>\n",
       "  <tbody>\n",
       "    <tr>\n",
       "      <th>1061</th>\n",
       "      <td>2020-12-01</td>\n",
       "      <td>20210115</td>\n",
       "      <td>P</td>\n",
       "      <td>535.0</td>\n",
       "      <td>170.18</td>\n",
       "      <td>170.65</td>\n",
       "      <td>A</td>\n",
       "      <td>2021-01-15</td>\n",
       "      <td>170.415</td>\n",
       "    </tr>\n",
       "    <tr>\n",
       "      <th>1062</th>\n",
       "      <td>2020-12-01</td>\n",
       "      <td>20210115</td>\n",
       "      <td>P</td>\n",
       "      <td>540.0</td>\n",
       "      <td>175.18</td>\n",
       "      <td>175.65</td>\n",
       "      <td>A</td>\n",
       "      <td>2021-01-15</td>\n",
       "      <td>175.415</td>\n",
       "    </tr>\n",
       "    <tr>\n",
       "      <th>1063</th>\n",
       "      <td>2020-12-01</td>\n",
       "      <td>20210115</td>\n",
       "      <td>P</td>\n",
       "      <td>545.0</td>\n",
       "      <td>180.18</td>\n",
       "      <td>180.65</td>\n",
       "      <td>A</td>\n",
       "      <td>2021-01-15</td>\n",
       "      <td>180.415</td>\n",
       "    </tr>\n",
       "    <tr>\n",
       "      <th>1064</th>\n",
       "      <td>2020-12-01</td>\n",
       "      <td>20210115</td>\n",
       "      <td>P</td>\n",
       "      <td>550.0</td>\n",
       "      <td>185.18</td>\n",
       "      <td>185.65</td>\n",
       "      <td>A</td>\n",
       "      <td>2021-01-15</td>\n",
       "      <td>185.415</td>\n",
       "    </tr>\n",
       "    <tr>\n",
       "      <th>1065</th>\n",
       "      <td>2020-12-01</td>\n",
       "      <td>20210115</td>\n",
       "      <td>P</td>\n",
       "      <td>555.0</td>\n",
       "      <td>190.18</td>\n",
       "      <td>190.65</td>\n",
       "      <td>A</td>\n",
       "      <td>2021-01-15</td>\n",
       "      <td>190.415</td>\n",
       "    </tr>\n",
       "  </tbody>\n",
       "</table>\n",
       "</div>"
      ],
      "text/plain": [
       "           date    exdate cp_flag  strike_price  best_bid  best_offer  \\\n",
       "1061 2020-12-01  20210115       P         535.0    170.18      170.65   \n",
       "1062 2020-12-01  20210115       P         540.0    175.18      175.65   \n",
       "1063 2020-12-01  20210115       P         545.0    180.18      180.65   \n",
       "1064 2020-12-01  20210115       P         550.0    185.18      185.65   \n",
       "1065 2020-12-01  20210115       P         555.0    190.18      190.65   \n",
       "\n",
       "     exercise_style     expiry      mid  \n",
       "1061              A 2021-01-15  170.415  \n",
       "1062              A 2021-01-15  175.415  \n",
       "1063              A 2021-01-15  180.415  \n",
       "1064              A 2021-01-15  185.415  \n",
       "1065              A 2021-01-15  190.415  "
      ]
     },
     "execution_count": 3,
     "metadata": {},
     "output_type": "execute_result"
    }
   ],
   "source": [
    "rates = pd.read_csv('zero_rates_20201201.csv')\n",
    "SPX = pd.read_csv('SPX_options.csv')\n",
    "SPY = pd.read_csv('SPY_options.csv')\n",
    "\n",
    "SPY['date'] = SPY.date.apply(lambda x: pd.to_datetime(x, format='%Y%m%d'))\n",
    "SPY['expiry'] = SPY.exdate.apply(lambda x: pd.to_datetime(x, format='%Y%m%d'))\n",
    "\n",
    "SPX['date'] = SPX.date.apply(lambda x: pd.to_datetime(x, format='%Y%m%d'))\n",
    "SPX['expiry'] = SPX.exdate.apply(lambda x: pd.to_datetime(x, format='%Y%m%d'))\n",
    "\n",
    "\n",
    "SPY = SPY[SPY['exdate'] == SPY['exdate'].unique()[1]]\n",
    "SPX = SPX[SPX['exdate'] == SPX['exdate'].unique()[1]]\n",
    "\n",
    "\n",
    "SPX['strike_price'] = SPX['strike_price'] / 1000\n",
    "SPY['strike_price'] = SPY['strike_price'] / 1000\n",
    "\n",
    "\n",
    "SPX['mid'] = (SPX['best_bid'] + SPX['best_offer'])/2\n",
    "SPY['mid'] = (SPY['best_bid'] + SPY['best_offer'])/2\n",
    "\n",
    "SPY.tail()"
   ]
  },
  {
   "cell_type": "code",
   "execution_count": 4,
   "id": "50c96220-4545-4a38-9fa4-854cc5ac969c",
   "metadata": {
    "colab": {
     "base_uri": "https://localhost:8080/"
    },
    "executionInfo": {
     "elapsed": 9,
     "status": "ok",
     "timestamp": 1732019714378,
     "user": {
      "displayName": "jermayne lim",
      "userId": "08961031915218781754"
     },
     "user_tz": -480
    },
    "id": "50c96220-4545-4a38-9fa4-854cc5ac969c",
    "outputId": "f1d63d3a-225a-46c5-9eb4-9240a26e7dfb"
   },
   "outputs": [
    {
     "name": "stdout",
     "output_type": "stream",
     "text": [
      "{datetime.date(2021, 1, 15): 0.1232876712328767}\n",
      "45\n",
      "0.20510755555555554\n"
     ]
    }
   ],
   "source": [
    "# Time to Expiry\n",
    "today = dt.date(2020, 12, 1)\n",
    "expiries = [pd.Timestamp(str(x)).date() for x in SPX['exdate'].unique()]\n",
    "unique_T = [(exdate-today).days/365.0 for exdate in expiries]\n",
    "print(dict(zip(expiries, unique_T)))\n",
    "\n",
    "days_to_expiry = (expiries[0] - today).days\n",
    "print(days_to_expiry)\n",
    "\n",
    "zero_rate_curve = interp1d(rates['days'], rates['rate'])\n",
    "rate_45 = zero_rate_curve(days_to_expiry)\n",
    "print(rate_45)"
   ]
  },
  {
   "cell_type": "code",
   "execution_count": 5,
   "id": "0d56dcef-c1c0-4eb5-9534-df9a521472bc",
   "metadata": {
    "executionInfo": {
     "elapsed": 9,
     "status": "ok",
     "timestamp": 1732019714379,
     "user": {
      "displayName": "jermayne lim",
      "userId": "08961031915218781754"
     },
     "user_tz": -480
    },
    "id": "0d56dcef-c1c0-4eb5-9534-df9a521472bc"
   },
   "outputs": [],
   "source": [
    "# Parameters\n",
    "S0_SPY = 366.02\n",
    "S0_SPX = 3662.45\n",
    "T = days_to_expiry / 365\n",
    "r = rate_45/100\n",
    "\n",
    "#SPX SABR\n",
    "alpha_SPX = 1.821\n",
    "beta_SPX = 0.7\n",
    "rho_SPX = -0.407\n",
    "nu_SPX = 2.788\n",
    "\n",
    "#SPY SABR\n",
    "alpha_SPY = 0.910\n",
    "beta_SPY = 0.7\n",
    "rho_SPY = -0.491\n",
    "nu_SPY = 2.726\n",
    "\n",
    "# Forward Prices\n",
    "F_SPY = S0_SPY * np.exp(r * T)  # Forward price\n",
    "F_SPX = S0_SPX * np.exp(r * T)"
   ]
  },
  {
   "cell_type": "code",
   "execution_count": 6,
   "id": "71431cfc-7e56-4c35-bdb3-efeb9791e821",
   "metadata": {
    "executionInfo": {
     "elapsed": 9,
     "status": "ok",
     "timestamp": 1732019714379,
     "user": {
      "displayName": "jermayne lim",
      "userId": "08961031915218781754"
     },
     "user_tz": -480
    },
    "id": "71431cfc-7e56-4c35-bdb3-efeb9791e821"
   },
   "outputs": [],
   "source": [
    "#SPY ATM & OTM put and call\n",
    "\n",
    "#Why do i only take otm and itm options\n",
    "SPY_call = SPY.copy()[SPY[\"cp_flag\"] == 'C']\n",
    "SPY_call = SPY_call[SPY_call['strike_price'] >= S0_SPY]\n",
    "\n",
    "SPY_put = SPY.copy()[SPY[\"cp_flag\"] == 'P']\n",
    "SPY_put = SPY_put[SPY_put['strike_price'] <= S0_SPY]\n",
    "\n",
    "new_SPY = pd.concat([SPY_call, SPY_put])\n",
    "\n",
    "#SPX ATM & OTM put and call\n",
    "SPX_call = SPX.copy()[SPX[\"cp_flag\"] == 'C']\n",
    "SPX_call = SPX_call[SPX_call['strike_price'] >= S0_SPX]\n",
    "\n",
    "\n",
    "SPX_put = SPX.copy()[SPX[\"cp_flag\"] == 'P']\n",
    "SPX_put = SPX_put[SPX_put['strike_price'] <= S0_SPX]\n",
    "\n",
    "new_SPX = pd.concat([SPX_call, SPX_put])"
   ]
  },
  {
   "cell_type": "markdown",
   "id": "aa479960-4b48-4aac-98cd-864ab6df2e15",
   "metadata": {
    "id": "aa479960-4b48-4aac-98cd-864ab6df2e15"
   },
   "source": [
    "## Black-Scholes and Bachelier Model"
   ]
  },
  {
   "cell_type": "code",
   "execution_count": 8,
   "id": "f3561678-3b36-492b-b507-1f4e84a45430",
   "metadata": {
    "executionInfo": {
     "elapsed": 9,
     "status": "ok",
     "timestamp": 1732019714379,
     "user": {
      "displayName": "jermayne lim",
      "userId": "08961031915218781754"
     },
     "user_tz": -480
    },
    "id": "f3561678-3b36-492b-b507-1f4e84a45430"
   },
   "outputs": [],
   "source": [
    "#Black-Scholes\n",
    "def BlackScholesCall(S, K, r, sigma, T):\n",
    "    d1 = (np.log(S/K)+(r+sigma**2/2)*T) / (sigma*np.sqrt(T))\n",
    "    d2 = d1 - sigma*np.sqrt(T)\n",
    "    return S*norm.cdf(d1) - K*np.exp(-r*T)*norm.cdf(d2)\n",
    "\n",
    "def BlackScholesPut(S, K, r, sigma, T):\n",
    "    d1 = (np.log(S/K)+(r+sigma**2/2)*T) / (sigma*np.sqrt(T))\n",
    "    d2 = d1 - sigma*np.sqrt(T)\n",
    "    return K*np.exp(-r*T)*norm.cdf(-d2) - S*norm.cdf(-d1)\n",
    "\n",
    "#Implied Call & Put Volatility\n",
    "def impliedCallVolatility(S, K, r, price, T):\n",
    "    impliedVol = brentq(lambda x: price -\n",
    "                        BlackScholesCall(S, K, r, x, T),\n",
    "                        1e-6, 1)\n",
    "    return impliedVol\n",
    "\n",
    "def impliedPutVolatility(S, K, r, price, T):\n",
    "    impliedVol = brentq(lambda x: price -\n",
    "                        BlackScholesPut(S, K, r, x, T),\n",
    "                        1e-6, 1)\n",
    "    return impliedVol"
   ]
  },
  {
   "cell_type": "code",
   "execution_count": 9,
   "id": "1e0636ec-5c29-4db5-a508-d86602ed6301",
   "metadata": {
    "executionInfo": {
     "elapsed": 9,
     "status": "ok",
     "timestamp": 1732019714379,
     "user": {
      "displayName": "jermayne lim",
      "userId": "08961031915218781754"
     },
     "user_tz": -480
    },
    "id": "1e0636ec-5c29-4db5-a508-d86602ed6301"
   },
   "outputs": [],
   "source": [
    "#Bachelier Model\n",
    "def BachelierCall(S, K, r, sigma, T):\n",
    "    x = (np.log( (S - K) / (sigma * np.sqrt(T))))\n",
    "    return np.exp(-r*T) * ( (S - K)* norm.cdf(x) + ( sigma * np.sqrt(T) ) * norm.pdf(x) )\n",
    "\n",
    "def BachelierPut(S, K, r, sigma, T):\n",
    "    x = (np.log( (S - K) / (sigma * np.sqrt(T))))\n",
    "    return np.exp(-r*T) * ( (K - S)* norm.cdf(-x) + ( sigma * np.sqrt(T) ) * norm.pdf(-x) )"
   ]
  },
  {
   "cell_type": "code",
   "execution_count": 10,
   "id": "5be85b04-f9be-4f7c-89f2-d4cf8c76cebd",
   "metadata": {
    "executionInfo": {
     "elapsed": 8,
     "status": "ok",
     "timestamp": 1732019714379,
     "user": {
      "displayName": "jermayne lim",
      "userId": "08961031915218781754"
     },
     "user_tz": -480
    },
    "id": "5be85b04-f9be-4f7c-89f2-d4cf8c76cebd"
   },
   "outputs": [],
   "source": [
    "#SABR Model\n",
    "def SABR(F, K, T, alpha, beta, rho, nu):\n",
    "    X = K\n",
    "    # if K is at-the-money-forward\n",
    "    if abs(F - K) < 1e-12:\n",
    "        numer1 = (((1 - beta)**2)/24)*alpha*alpha/(F**(2 - 2*beta))\n",
    "        numer2 = 0.25*rho*beta*nu*alpha/(F**(1 - beta))\n",
    "        numer3 = ((2 - 3*rho*rho)/24)*nu*nu\n",
    "        VolAtm = alpha*(1 + (numer1 + numer2 + numer3)*T)/(F**(1-beta))\n",
    "        sabrsigma = VolAtm\n",
    "    else:\n",
    "        z = (nu/alpha)*((F*X)**(0.5*(1-beta)))*np.log(F/X)\n",
    "        zhi = np.log((((1 - 2*rho*z + z*z)**0.5) + z - rho)/(1 - rho))\n",
    "        numer1 = (((1 - beta)**2)/24)*((alpha*alpha)/((F*X)**(1 - beta)))\n",
    "        numer2 = 0.25*rho*beta*nu*alpha/((F*X)**((1 - beta)/2))\n",
    "        numer3 = ((2 - 3*rho*rho)/24)*nu*nu\n",
    "        numer = alpha*(1 + (numer1 + numer2 + numer3)*T)*z\n",
    "        denom1 = ((1 - beta)**2/24)*(np.log(F/X))**2\n",
    "        denom2 = (((1 - beta)**4)/1920)*((np.log(F/X))**4)\n",
    "        denom = ((F*X)**((1 - beta)/2))*(1 + denom1 + denom2)*zhi\n",
    "        sabrsigma = numer/denom\n",
    "\n",
    "    return sabrsigma\n",
    "\n",
    "def SABRCall(S0, K, r, alpha, beta, rho, nu, T):\n",
    "    sabr_vol = SABR(S0*np.exp(r*T), K, T, alpha, beta, rho, nu) #sabr implied call\n",
    "    return BlackScholesCall(S0, K, r, sabr_vol, T)\n",
    "\n",
    "\n",
    "def SABRPut(S0, K, r, alpha, beta, rho, nu, T):\n",
    "    sabr_vol = SABR(S0*np.exp(r*T), K, T, alpha, beta, rho, nu) #sabr implied vol\n",
    "    return BlackScholesPut(S0, K, r, sabr_vol, T)\n",
    "\n",
    "\n",
    "def sabrcallintegrand(K, S0, r, T, alpha, beta, rho, nu):\n",
    "    price = SABRCall(S0, K, r, alpha, beta, rho, nu, T) / K**2\n",
    "    return price\n",
    "\n",
    "\n",
    "def sabrputintegrand(K, S0, r, T, alpha, beta, rho, nu):\n",
    "    price = SABRPut(S0, K, r, alpha, beta, rho, nu, T) / K**2\n",
    "    return price"
   ]
  },
  {
   "cell_type": "code",
   "execution_count": 11,
   "id": "e05c33a8-cd7b-43d8-9713-2aa76b703995",
   "metadata": {
    "executionInfo": {
     "elapsed": 8,
     "status": "ok",
     "timestamp": 1732019714379,
     "user": {
      "displayName": "jermayne lim",
      "userId": "08961031915218781754"
     },
     "user_tz": -480
    },
    "id": "e05c33a8-cd7b-43d8-9713-2aa76b703995"
   },
   "outputs": [],
   "source": [
    "def h(K):\n",
    "    K = np.where(np.abs(K) < 1e-6, 1e-6, K)\n",
    "    return K**(1/3) + 1.5 * np.log(K) + 10\n",
    "\n",
    "def h2(K):\n",
    "    K = np.where(np.abs(K) < 1e-6, 1e-6, K)\n",
    "    return -2/9 * K **(-5/3) - 3/2 * K** (-2)"
   ]
  },
  {
   "cell_type": "code",
   "execution_count": 12,
   "id": "83e53467-f9f6-4620-9f4f-d5ecfdb2aecc",
   "metadata": {
    "colab": {
     "base_uri": "https://localhost:8080/",
     "height": 206
    },
    "executionInfo": {
     "elapsed": 8,
     "status": "ok",
     "timestamp": 1732019714379,
     "user": {
      "displayName": "jermayne lim",
      "userId": "08961031915218781754"
     },
     "user_tz": -480
    },
    "id": "83e53467-f9f6-4620-9f4f-d5ecfdb2aecc",
    "outputId": "af5d6dab-3834-4d95-a70a-f3f4c2e968c4"
   },
   "outputs": [
    {
     "data": {
      "text/html": [
       "<div>\n",
       "<style scoped>\n",
       "    .dataframe tbody tr th:only-of-type {\n",
       "        vertical-align: middle;\n",
       "    }\n",
       "\n",
       "    .dataframe tbody tr th {\n",
       "        vertical-align: top;\n",
       "    }\n",
       "\n",
       "    .dataframe thead th {\n",
       "        text-align: right;\n",
       "    }\n",
       "</style>\n",
       "<table border=\"1\" class=\"dataframe\">\n",
       "  <thead>\n",
       "    <tr style=\"text-align: right;\">\n",
       "      <th></th>\n",
       "      <th>date</th>\n",
       "      <th>exdate</th>\n",
       "      <th>cp_flag</th>\n",
       "      <th>strike_price</th>\n",
       "      <th>best_bid</th>\n",
       "      <th>best_offer</th>\n",
       "      <th>exercise_style</th>\n",
       "      <th>expiry</th>\n",
       "      <th>mid</th>\n",
       "    </tr>\n",
       "  </thead>\n",
       "  <tbody>\n",
       "    <tr>\n",
       "      <th>787</th>\n",
       "      <td>2020-12-01</td>\n",
       "      <td>20210115</td>\n",
       "      <td>C</td>\n",
       "      <td>555.0</td>\n",
       "      <td>0.0</td>\n",
       "      <td>0.01</td>\n",
       "      <td>A</td>\n",
       "      <td>2021-01-15</td>\n",
       "      <td>0.005</td>\n",
       "    </tr>\n",
       "    <tr>\n",
       "      <th>786</th>\n",
       "      <td>2020-12-01</td>\n",
       "      <td>20210115</td>\n",
       "      <td>C</td>\n",
       "      <td>550.0</td>\n",
       "      <td>0.0</td>\n",
       "      <td>0.01</td>\n",
       "      <td>A</td>\n",
       "      <td>2021-01-15</td>\n",
       "      <td>0.005</td>\n",
       "    </tr>\n",
       "    <tr>\n",
       "      <th>785</th>\n",
       "      <td>2020-12-01</td>\n",
       "      <td>20210115</td>\n",
       "      <td>C</td>\n",
       "      <td>545.0</td>\n",
       "      <td>0.0</td>\n",
       "      <td>0.01</td>\n",
       "      <td>A</td>\n",
       "      <td>2021-01-15</td>\n",
       "      <td>0.005</td>\n",
       "    </tr>\n",
       "    <tr>\n",
       "      <th>784</th>\n",
       "      <td>2020-12-01</td>\n",
       "      <td>20210115</td>\n",
       "      <td>C</td>\n",
       "      <td>540.0</td>\n",
       "      <td>0.0</td>\n",
       "      <td>0.01</td>\n",
       "      <td>A</td>\n",
       "      <td>2021-01-15</td>\n",
       "      <td>0.005</td>\n",
       "    </tr>\n",
       "    <tr>\n",
       "      <th>783</th>\n",
       "      <td>2020-12-01</td>\n",
       "      <td>20210115</td>\n",
       "      <td>C</td>\n",
       "      <td>535.0</td>\n",
       "      <td>0.0</td>\n",
       "      <td>0.01</td>\n",
       "      <td>A</td>\n",
       "      <td>2021-01-15</td>\n",
       "      <td>0.005</td>\n",
       "    </tr>\n",
       "  </tbody>\n",
       "</table>\n",
       "</div>"
      ],
      "text/plain": [
       "          date    exdate cp_flag  strike_price  best_bid  best_offer  \\\n",
       "787 2020-12-01  20210115       C         555.0       0.0        0.01   \n",
       "786 2020-12-01  20210115       C         550.0       0.0        0.01   \n",
       "785 2020-12-01  20210115       C         545.0       0.0        0.01   \n",
       "784 2020-12-01  20210115       C         540.0       0.0        0.01   \n",
       "783 2020-12-01  20210115       C         535.0       0.0        0.01   \n",
       "\n",
       "    exercise_style     expiry    mid  \n",
       "787              A 2021-01-15  0.005  \n",
       "786              A 2021-01-15  0.005  \n",
       "785              A 2021-01-15  0.005  \n",
       "784              A 2021-01-15  0.005  \n",
       "783              A 2021-01-15  0.005  "
      ]
     },
     "execution_count": 12,
     "metadata": {},
     "output_type": "execute_result"
    }
   ],
   "source": [
    " new_SPY.sort_values(by = 'strike_price' , ascending = False).head()"
   ]
  },
  {
   "cell_type": "code",
   "execution_count": 13,
   "id": "9df7f3a4-e6f6-49f1-a952-7aac2535a183",
   "metadata": {
    "colab": {
     "base_uri": "https://localhost:8080/"
    },
    "executionInfo": {
     "elapsed": 7,
     "status": "ok",
     "timestamp": 1732019714379,
     "user": {
      "displayName": "jermayne lim",
      "userId": "08961031915218781754"
     },
     "user_tz": -480
    },
    "id": "9df7f3a4-e6f6-49f1-a952-7aac2535a183",
    "outputId": "6ef3c83a-d27b-4596-d239-17368d8ec07c"
   },
   "outputs": [
    {
     "name": "stdout",
     "output_type": "stream",
     "text": [
      "          date    exdate cp_flag  strike_price  best_bid  best_offer  \\\n",
      "997 2020-12-01  20210115       P         366.0     10.06       10.10   \n",
      "720 2020-12-01  20210115       C         367.0      8.28        8.33   \n",
      "996 2020-12-01  20210115       P         365.0      9.64        9.68   \n",
      "721 2020-12-01  20210115       C         368.0      7.74        7.78   \n",
      "995 2020-12-01  20210115       P         364.0      9.24        9.28   \n",
      "\n",
      "    exercise_style     expiry     mid  abs_diff  \n",
      "997              A 2021-01-15  10.080      0.02  \n",
      "720              A 2021-01-15   8.305      0.98  \n",
      "996              A 2021-01-15   9.660      1.02  \n",
      "721              A 2021-01-15   7.760      1.98  \n",
      "995              A 2021-01-15   9.260      2.02  \n"
     ]
    }
   ],
   "source": [
    "new_SPY['abs_diff'] = np.abs(new_SPY['strike_price'] - S0_SPY) #Finding price closest to forward price\n",
    "print(new_SPY.nsmallest(5, 'abs_diff'))\n",
    "\n",
    "new_SPX['abs_diff'] = np.abs(new_SPX['strike_price'] - S0_SPX)\n",
    "# print(new_SPX.nsmallest(5, 'abs_diff'))"
   ]
  },
  {
   "cell_type": "code",
   "execution_count": 14,
   "id": "15a2e0bf-04c4-4b46-8c17-deb8968b5536",
   "metadata": {
    "colab": {
     "base_uri": "https://localhost:8080/"
    },
    "executionInfo": {
     "elapsed": 562,
     "status": "ok",
     "timestamp": 1732019714935,
     "user": {
      "displayName": "jermayne lim",
      "userId": "08961031915218781754"
     },
     "user_tz": -480
    },
    "id": "15a2e0bf-04c4-4b46-8c17-deb8968b5536",
    "outputId": "5bdaea64-3284-465e-fe45-fbf994562e4e"
   },
   "outputs": [
    {
     "name": "stdout",
     "output_type": "stream",
     "text": [
      "Sigma for SPY under Black-Scholes Model:  0.1977667232964117\n",
      "Sigma for SPX under Black-Scholes Model:  0.18886028486825987\n"
     ]
    }
   ],
   "source": [
    "# Compute implied volatilities\n",
    "K_SPX = 3660\n",
    "K_SPY = 366\n",
    "\n",
    "SPY_sigma = impliedPutVolatility(S0_SPY , K_SPY , r , 10.08,  T)\n",
    "\n",
    "SPX_sigma = impliedPutVolatility(S0_SPX , K_SPX , r , 95.15 , T)\n",
    "print(\"Sigma for SPY under Black-Scholes Model: \" , SPY_sigma)\n",
    "print(\"Sigma for SPX under Black-Scholes Model: \" , SPX_sigma)"
   ]
  },
  {
   "cell_type": "code",
   "execution_count": 15,
   "id": "47df0aa7-4ad6-4613-a889-78e47eaceda3",
   "metadata": {
    "colab": {
     "base_uri": "https://localhost:8080/"
    },
    "executionInfo": {
     "elapsed": 7,
     "status": "ok",
     "timestamp": 1732019714936,
     "user": {
      "displayName": "jermayne lim",
      "userId": "08961031915218781754"
     },
     "user_tz": -480
    },
    "id": "47df0aa7-4ad6-4613-a889-78e47eaceda3",
    "outputId": "0442e185-062e-4d22-9bbe-627c9a371cd9"
   },
   "outputs": [
    {
     "name": "stdout",
     "output_type": "stream",
     "text": [
      " Pricing of SPY from Black-Scholes Model is : 26.00165870035046\n",
      " Pricing of SPX from Black-Scholes Model is : 37.71527504034801\n"
     ]
    }
   ],
   "source": [
    "#Black Scholes Pricing\n",
    "SPY_BS = np.exp(-r * T) * h(F_SPY) + h2(F_SPY)*(1 / K_SPY**2) * BlackScholesCall(r = r , S = S0_SPY , K = K_SPY, T = T, sigma = SPY_sigma)+ h2(F_SPY)*(1 / K_SPY**2) * BlackScholesPut(r = r , S = S0_SPY , K = K_SPY, T = T, sigma = SPY_sigma)\n",
    "SPX_BS = np.exp(-r * T) * h(F_SPX) + h2(F_SPX)*(1 / K_SPX**2) * BlackScholesCall(r = r , S = S0_SPX , K = K_SPX, T = T, sigma = SPX_sigma)+ h2(F_SPX)*(1 / K_SPX**2) * BlackScholesPut(r = r , S = S0_SPX , K = K_SPX, T = T, sigma = SPX_sigma)\n",
    "\n",
    "print(\" Pricing of SPY from Black-Scholes Model is :\" , SPY_BS)\n",
    "print(\" Pricing of SPX from Black-Scholes Model is :\" , SPX_BS)"
   ]
  },
  {
   "cell_type": "code",
   "execution_count": 16,
   "id": "93205150-3fec-4f69-9fa2-fdefea863c37",
   "metadata": {
    "colab": {
     "base_uri": "https://localhost:8080/"
    },
    "executionInfo": {
     "elapsed": 4,
     "status": "ok",
     "timestamp": 1732019714936,
     "user": {
      "displayName": "jermayne lim",
      "userId": "08961031915218781754"
     },
     "user_tz": -480
    },
    "id": "93205150-3fec-4f69-9fa2-fdefea863c37",
    "outputId": "f291b0c5-966f-4d83-f3d3-f6774dc9a419"
   },
   "outputs": [
    {
     "name": "stdout",
     "output_type": "stream",
     "text": [
      " Pricing of SPY from Bachelier Model is : 26.001658703837276\n",
      " Pricing of SPX from Bachelier Model is : 37.715275040349105\n"
     ]
    }
   ],
   "source": [
    "# Bachelier Pricing\n",
    "SPY_Bachelier = np.exp(-r * T) * h(F_SPY) + h2(F_SPY)*(1 / K_SPY**2) * BachelierCall(r = r , S = S0_SPY , K = K_SPY, T = T, sigma = SPY_sigma)+ h2(F_SPY)*(1 / K_SPY**2) * BachelierPut(r = r , S = S0_SPY , K = K_SPY, T = T, sigma = SPY_sigma)\n",
    "SPX_Bachelier = np.exp(-r * T) * h(F_SPX) + h2(F_SPY)*(1 / K_SPX**2) * BachelierCall(r = r , S = S0_SPX , K = K_SPX, T = T, sigma = SPX_sigma)+ h2(F_SPY)*(1 / K_SPX**2) * BachelierPut(r = r , S = S0_SPX , K = K_SPX, T = T, sigma = SPX_sigma)\n",
    "\n",
    "print(\" Pricing of SPY from Bachelier Model is :\" , SPY_Bachelier)\n",
    "print(\" Pricing of SPX from Bachelier Model is :\" , SPX_Bachelier)"
   ]
  },
  {
   "cell_type": "code",
   "execution_count": 17,
   "id": "c3449166-39ee-4ca0-a361-04909fd3c954",
   "metadata": {
    "colab": {
     "base_uri": "https://localhost:8080/"
    },
    "executionInfo": {
     "elapsed": 523,
     "status": "ok",
     "timestamp": 1732019715456,
     "user": {
      "displayName": "jermayne lim",
      "userId": "08961031915218781754"
     },
     "user_tz": -480
    },
    "id": "c3449166-39ee-4ca0-a361-04909fd3c954",
    "outputId": "4018fe13-8a7d-4e1a-deb1-2f3a5806fc9b"
   },
   "outputs": [
    {
     "name": "stdout",
     "output_type": "stream",
     "text": [
      " Pricing of SPX from SABR Model is : 37.71845332801057\n",
      " Price SPY from SABR Model is:  26.004673143470693\n"
     ]
    }
   ],
   "source": [
    "#SABR Model\n",
    "I_SPX_put = quad(lambda x: sabrputintegrand(x, S0_SPX, r, T, alpha_SPX, beta_SPX, rho_SPX, nu_SPX), 1e-6, F_SPX)[0]\n",
    "I_SPX_call = quad(lambda x: sabrcallintegrand(x , S0_SPX, r, T, alpha_SPX, beta_SPX, rho_SPX, nu_SPX), F_SPX, 5000)[0]\n",
    "\n",
    "I_SPY_call = quad(lambda x: sabrcallintegrand(x , S0_SPY,r, T, alpha_SPY, beta_SPY, rho_SPY, nu_SPY), F_SPY, 5000)[0]\n",
    "I_SPY_put = quad(lambda x: sabrputintegrand(x , S0_SPY, r, T, alpha_SPY, beta_SPY, rho_SPY, nu_SPY), 0.0, F_SPY)[0]\n",
    "\n",
    "\n",
    "SPX_SABR = np.exp(-r * T) * h(F_SPX) + I_SPX_call + I_SPX_put\n",
    "SPY_SABR = np.exp(-r * T) * h(F_SPY) + I_SPY_call + I_SPY_put\n",
    "\n",
    "print(\" Pricing of SPX from SABR Model is :\" , SPX_SABR)\n",
    "print(\" Price SPY from SABR Model is: \" , SPY_SABR )"
   ]
  },
  {
   "cell_type": "markdown",
   "id": "3f7b38ec-ead9-48d8-b340-6b60730eddfb",
   "metadata": {
    "id": "3f7b38ec-ead9-48d8-b340-6b60730eddfb"
   },
   "source": [
    "## Model-Free Variance"
   ]
  },
  {
   "cell_type": "code",
   "execution_count": 19,
   "id": "9f791402-c699-497c-a838-407c7d6c0a3a",
   "metadata": {
    "colab": {
     "base_uri": "https://localhost:8080/"
    },
    "executionInfo": {
     "elapsed": 2,
     "status": "ok",
     "timestamp": 1732019715456,
     "user": {
      "displayName": "jermayne lim",
      "userId": "08961031915218781754"
     },
     "user_tz": -480
    },
    "id": "9f791402-c699-497c-a838-407c7d6c0a3a",
    "outputId": "8f817fd5-e0e4-4a18-d6c9-ec19b3043f36"
   },
   "outputs": [
    {
     "name": "stdout",
     "output_type": "stream",
     "text": [
      "Black-Scholes sigma for SPY derived from MF variance is  0.1977667232964117\n",
      "Black-Scholes sigma for SPX derived from MF variance is  0.18886028486825987\n",
      "SABR sigma derived from MF variance is:  0.22709453566060128\n",
      "SABR sigma derived from MF variance is:  0.22116346179231763\n"
     ]
    }
   ],
   "source": [
    "SABR_SPX_var = 2*np.exp(r*T)*(I_SPX_put + I_SPX_call)\n",
    "SABR_SPY_var = 2*np.exp(r*T)*(I_SPY_put + I_SPY_call)\n",
    "\n",
    "MF_SPX_var = SABR_SPX_var/T\n",
    "MF_SPY_var = SABR_SPY_var/T\n",
    "\n",
    "BS_SPY_var = SPY_sigma**2 * T\n",
    "BS_SPX_var = SPX_sigma**2 * T\n",
    "\n",
    "BS_SPY_vol = np.sqrt(BS_SPY_var / T )\n",
    "BS_SPX_vol = np.sqrt(BS_SPX_var / T )\n",
    "\n",
    "print('Black-Scholes sigma for SPY derived from MF variance is ' , BS_SPY_vol)\n",
    "print('Black-Scholes sigma for SPX derived from MF variance is ' , BS_SPX_vol)\n",
    "\n",
    "print('SABR sigma derived from MF variance is: ' , np.sqrt(MF_SPX_var))\n",
    "print('SABR sigma derived from MF variance is: ' , np.sqrt(MF_SPY_var))"
   ]
  },
  {
   "cell_type": "code",
   "execution_count": null,
   "id": "42e441f1-26a9-469e-b483-dbc8700551d3",
   "metadata": {
    "executionInfo": {
     "elapsed": 1,
     "status": "ok",
     "timestamp": 1732019715456,
     "user": {
      "displayName": "jermayne lim",
      "userId": "08961031915218781754"
     },
     "user_tz": -480
    },
    "id": "42e441f1-26a9-469e-b483-dbc8700551d3"
   },
   "outputs": [],
   "source": []
  }
 ],
 "metadata": {
  "colab": {
   "provenance": []
  },
  "kernelspec": {
   "display_name": "Python 3 (ipykernel)",
   "language": "python",
   "name": "python3"
  },
  "language_info": {
   "codemirror_mode": {
    "name": "ipython",
    "version": 3
   },
   "file_extension": ".py",
   "mimetype": "text/x-python",
   "name": "python",
   "nbconvert_exporter": "python",
   "pygments_lexer": "ipython3",
   "version": "3.12.4"
  }
 },
 "nbformat": 4,
 "nbformat_minor": 5
}
