{
 "cells": [
  {
   "cell_type": "markdown",
   "metadata": {
    "id": "qoXhfECLXpxy"
   },
   "source": [
    "# QF620 Project Part IV - Dynamic Hedging"
   ]
  },
  {
   "cell_type": "markdown",
   "metadata": {},
   "source": [
    "**Group 8**\\\n",
    "Ee Jing Michelle\\\n",
    "Ishani Maitra\\\n",
    "Jermayne Lim Jie Min\\\n",
    "Lim Fang Yi\\\n",
    "Muhammad Saqif Bin Juhaimee\\\n",
    "Rohen S/O Veera Kumaran"
   ]
  },
  {
   "cell_type": "code",
   "execution_count": 3,
   "metadata": {
    "id": "4emKrv4V429h"
   },
   "outputs": [],
   "source": [
    "import pandas as pd\n",
    "import numpy as np\n",
    "\n",
    "import matplotlib.pyplot as plt\n",
    "from matplotlib.ticker import PercentFormatter\n",
    "\n",
    "from scipy.stats import norm\n",
    "\n",
    "import warnings\n",
    "warnings.filterwarnings(\"ignore\")"
   ]
  },
  {
   "cell_type": "markdown",
   "metadata": {
    "id": "wtk-rwpaWYXf"
   },
   "source": [
    "### Initialize Parameters\n",
    "\n",
    "\n",
    "*   Set $S_0 = 100$, $\\sigma = 0.2$, $r = 0.05$, $T = \\frac{1}{12}$, $K = 100$, $N = 21$, $N = 84$\n",
    "*   Simulate 50,000 paths for $S_t$\n",
    "\n"
   ]
  },
  {
   "cell_type": "code",
   "execution_count": 5,
   "metadata": {
    "id": "tXoanYGlmKpQ"
   },
   "outputs": [],
   "source": [
    "# Parameters\n",
    "np.random.seed(620)\n",
    "\n",
    "S0 = 100\n",
    "sigma = 0.2\n",
    "r = 0.05\n",
    "T = 1/12     # 1 month\n",
    "K = 100\n",
    "\n",
    "N1 = 21      # Daily Hedging\n",
    "N2 = 84      # 4x Daily Hedging\n",
    "\n",
    "paths = 50000"
   ]
  },
  {
   "cell_type": "markdown",
   "metadata": {
    "id": "1XOQkMFOY2Tl"
   },
   "source": [
    "### Simulate Stock Price Paths\n",
    "\n",
    "Using Brownian Motion to simulate stock prices:\n",
    "\n",
    "  \\begin{equation*}\n",
    "    S_{t+\\Delta t} = S_t e^{(r-\\frac{1}{2}σ^2)Δt+σ \\sqrt{Δt}Z}\n",
    "  \\end{equation*}\n",
    "\n"
   ]
  },
  {
   "cell_type": "code",
   "execution_count": 7,
   "metadata": {
    "id": "wQtKxbBPFwE9"
   },
   "outputs": [],
   "source": [
    "# Brownian Motion\n",
    "def simulate_Brownian_Motion(paths, steps, T):\n",
    "    deltaT = T/steps\n",
    "    t = np.linspace(0, T, steps+1)\n",
    "    X = np.c_[np.zeros((paths, 1)),\n",
    "              np.random.randn(paths, steps)]\n",
    "    return t, np.cumsum(np.sqrt(deltaT) * X, axis=1)"
   ]
  },
  {
   "cell_type": "code",
   "execution_count": 8,
   "metadata": {
    "id": "fw5R6aedlZTs"
   },
   "outputs": [],
   "source": [
    "# Black-Scholes Model\n",
    "def BlackScholesCall(S, K, r, sigma, T):\n",
    "    d1 = (np.log(S/K) + (r+sigma**2 /2)*T) / (sigma*np.sqrt(T))\n",
    "    d2 = d1 - sigma*np.sqrt(T)\n",
    "    return S*norm.cdf(d1) - K*np.exp(-r*T)*norm.cdf(d2)"
   ]
  },
  {
   "cell_type": "code",
   "execution_count": 9,
   "metadata": {
    "id": "birvCOWFliHG"
   },
   "outputs": [],
   "source": [
    "# Stock Price Simulation\n",
    "def simulate_Stock_Price(steps):\n",
    "    t, Wt = simulate_Brownian_Motion(paths, steps, 1/12)\n",
    "    t = np.linspace(0,T,steps+1)\n",
    "    S = S0*np.exp((r-(sigma**2)/2)*t+sigma*Wt)\n",
    "    return S"
   ]
  },
  {
   "cell_type": "code",
   "execution_count": 10,
   "metadata": {
    "id": "9oTrQmxZCZjm"
   },
   "outputs": [],
   "source": [
    "# Simulate Stock Paths\n",
    "stockpaths21 = simulate_Stock_Price(N1)\n",
    "stockpaths84 = simulate_Stock_Price(N2)"
   ]
  },
  {
   "cell_type": "markdown",
   "metadata": {
    "id": "isIhmDRcafBR"
   },
   "source": [
    "### Delta Hedging Strategy\n",
    "\n",
    "The hedged portfolio is $V_t=\\phi_tS_t+\\psi_tB_t$, where\n",
    "\n",
    "\\begin{equation*}\n",
    "\\phi_t=\\Delta_t=\\frac{\\partial C}{\\partial S}=\\Phi\\left(\\frac{\\log\\frac{S}{K}+\\left(r+\\frac{\\sigma^2}{2}\\right)T}{\\sigma\\sqrt{T}}\\right)\n",
    "\\end{equation*}\n",
    "\n",
    "and\n",
    "\n",
    "\\begin{equation*}\n",
    "\\psi_tB_t=-Ke^{-rT}\\Phi\\left(\\frac{\\log\\frac{S}{K}+\\left(r-\\frac{\\sigma^2}{2}\\right)T}{\\sigma\\sqrt{T}}\\right)\n",
    "\\end{equation*}"
   ]
  },
  {
   "cell_type": "code",
   "execution_count": 12,
   "metadata": {
    "id": "56XIqZjzWdTp"
   },
   "outputs": [],
   "source": [
    "# Stock and bond holding functions\n",
    "def phi(S, K, r, sigma, T):\n",
    "    d1 = (np.log(S / K) + (r + sigma**2 / 2) * T) / (sigma * np.sqrt(T))\n",
    "    return norm.cdf(d1)\n",
    "\n",
    "def psi_Bt(S, K, r, sigma, T):\n",
    "    d1 = (np.log(S / K) + (r + sigma**2 / 2) * T) / (sigma * np.sqrt(T))\n",
    "    d2 = d1 - sigma * np.sqrt(T)\n",
    "    return -K * np.exp(-r * T) * norm.cdf(d2)"
   ]
  },
  {
   "cell_type": "code",
   "execution_count": 13,
   "metadata": {
    "id": "xSu6vNHvcSRt"
   },
   "outputs": [],
   "source": [
    "# Delta Hedging Function\n",
    "def delta_hedging(stock_paths, steps, r, sigma, K, T):\n",
    "\n",
    "    dt = T / steps\n",
    "    t_grid = np.linspace(0, T, steps + 1)\n",
    "    paths = stock_paths.shape[0]\n",
    "\n",
    "    # Initialize cumulative hedging errors\n",
    "    errors = np.zeros(paths)\n",
    "\n",
    "    # Iterate over time steps\n",
    "    for i in range(steps):\n",
    "        St = stock_paths[:, i]               # Stock prices at time t\n",
    "        St_1 = stock_paths[:, i + 1]         # Stock prices at time t+1\n",
    "        deltaT = T - t_grid[i]               # Time to maturity from current step\n",
    "        changeT = t_grid[i + 1] - t_grid[i]  # Time difference between steps\n",
    "\n",
    "        # Delta (φ)\n",
    "        phi_t = phi(St, K, r, sigma, deltaT)\n",
    "\n",
    "        # Bond Position (ψ)\n",
    "        psi = psi_Bt(St, K, r, sigma, deltaT)\n",
    "\n",
    "        # Update Hedging Error\n",
    "        errors += (St_1 * phi_t + psi * np.exp(r * changeT)) - (St * phi_t + psi)\n",
    "\n",
    "    # Add Initial Option Price\n",
    "    C0 = phi(S0, K, r, sigma, T) * S0 + psi_Bt(S0, K, r, sigma, T)\n",
    "    errors += C0\n",
    "\n",
    "    # Subtract Terminal Payoff\n",
    "    errors -= np.maximum(stock_paths[:, -1] - K, 0)\n",
    "\n",
    "    return errors"
   ]
  },
  {
   "cell_type": "markdown",
   "metadata": {
    "id": "OAdSHqXFdFn1"
   },
   "source": [
    "### Hedging Errors"
   ]
  },
  {
   "cell_type": "code",
   "execution_count": 15,
   "metadata": {
    "colab": {
     "base_uri": "https://localhost:8080/",
     "height": 564
    },
    "id": "Qs9RQulub-Nf",
    "outputId": "c09584f8-f5b7-4b8a-e386-2914cb3ea69c"
   },
   "outputs": [
    {
     "data": {
      "image/png": "[encoded data removed]",
      "text/plain": [
       "<Figure size 1200x600 with 1 Axes>"
      ]
     },
     "metadata": {},
     "output_type": "display_data"
    }
   ],
   "source": [
    "# Calculate hedging errors\n",
    "errors21 = delta_hedging(stockpaths21, N1, r, sigma, K, T)\n",
    "errors84 = delta_hedging(stockpaths84, N2, r, sigma, K, T)\n",
    "\n",
    "# Plot histograms\n",
    "plt.figure(figsize=(12, 6))\n",
    "plt.hist(errors21, bins=100, alpha=0.6, label=\"N = 21\")\n",
    "plt.hist(errors84, bins=100, alpha=0.6, label=\"N = 84\")\n",
    "plt.xlabel(\"Hedging Error\")\n",
    "plt.ylabel(\"Frequency\")\n",
    "plt.title(\"Histogram of Hedging Errors\")\n",
    "plt.legend()\n",
    "plt.grid(True)\n",
    "plt.show()"
   ]
  },
  {
   "cell_type": "code",
   "execution_count": 16,
   "metadata": {
    "colab": {
     "base_uri": "https://localhost:8080/",
     "height": 125
    },
    "id": "xMBrNL2Zveqo",
    "outputId": "173638a1-d307-40a6-d5ad-e15333cd6ec5"
   },
   "outputs": [
    {
     "data": {
      "text/html": [
       "<div>\n",
       "<style scoped>\n",
       "    .dataframe tbody tr th:only-of-type {\n",
       "        vertical-align: middle;\n",
       "    }\n",
       "\n",
       "    .dataframe tbody tr th {\n",
       "        vertical-align: top;\n",
       "    }\n",
       "\n",
       "    .dataframe thead th {\n",
       "        text-align: right;\n",
       "    }\n",
       "</style>\n",
       "<table border=\"1\" class=\"dataframe\">\n",
       "  <thead>\n",
       "    <tr style=\"text-align: right;\">\n",
       "      <th></th>\n",
       "      <th>Hedging Frequency</th>\n",
       "      <th>Mean</th>\n",
       "      <th>Standard Deviation</th>\n",
       "      <th>Standard Deviation (% of Initial Option Price)</th>\n",
       "    </tr>\n",
       "  </thead>\n",
       "  <tbody>\n",
       "    <tr>\n",
       "      <th>0</th>\n",
       "      <td>N=21</td>\n",
       "      <td>-0.002597</td>\n",
       "      <td>0.430180</td>\n",
       "      <td>17.124551</td>\n",
       "    </tr>\n",
       "    <tr>\n",
       "      <th>1</th>\n",
       "      <td>N=84</td>\n",
       "      <td>-0.001248</td>\n",
       "      <td>0.216545</td>\n",
       "      <td>8.620199</td>\n",
       "    </tr>\n",
       "  </tbody>\n",
       "</table>\n",
       "</div>"
      ],
      "text/plain": [
       "  Hedging Frequency      Mean  Standard Deviation  \\\n",
       "0              N=21 -0.002597            0.430180   \n",
       "1              N=84 -0.001248            0.216545   \n",
       "\n",
       "   Standard Deviation (% of Initial Option Price)  \n",
       "0                                       17.124551  \n",
       "1                                        8.620199  "
      ]
     },
     "execution_count": 16,
     "metadata": {},
     "output_type": "execute_result"
    }
   ],
   "source": [
    "# Compute initial option price\n",
    "C0 = BlackScholesCall(S0, K, r, sigma, T)\n",
    "\n",
    "# Compute statistics\n",
    "summary =\\\n",
    "(\n",
    "  pd\n",
    "  .DataFrame({\"Hedging Frequency\": [\"N=21\", \"N=84\"],\n",
    "              \"Mean\": [np.mean(errors21), np.mean(errors84)],\n",
    "              \"Standard Deviation\": [np.std(errors21), np.std(errors84)],\n",
    "              \"Standard Deviation (% of Initial Option Price)\": [np.std(errors21) / C0 * 100,\n",
    "                                                                 np.std(errors84) / C0 * 100\n",
    "                                                                 ]\n",
    "              })\n",
    ")\n",
    "\n",
    "summary"
   ]
  },
  {
   "cell_type": "code",
   "execution_count": null,
   "metadata": {},
   "outputs": [],
   "source": []
  }
 ],
 "metadata": {
  "colab": {
   "provenance": []
  },
  "kernelspec": {
   "display_name": "Python 3 (ipykernel)",
   "language": "python",
   "name": "python3"
  },
  "language_info": {
   "codemirror_mode": {
    "name": "ipython",
    "version": 3
   },
   "file_extension": ".py",
   "mimetype": "text/x-python",
   "name": "python",
   "nbconvert_exporter": "python",
   "pygments_lexer": "ipython3",
   "version": "3.12.4"
  }
 },
 "nbformat": 4,
 "nbformat_minor": 4
}
